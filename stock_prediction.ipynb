{
 "cells": [
  {
   "cell_type": "code",
   "execution_count": 28,
   "metadata": {},
   "outputs": [],
   "source": [
    "from sklearn.model_selection import train_test_split\n",
    "from sklearn.linear_model import LinearRegression\n",
    "from sklearn import metrics\n",
    "import matplotlib.pyplot as plt\n",
    "import numpy as np"
   ]
  },
  {
   "cell_type": "code",
   "execution_count": 29,
   "metadata": {},
   "outputs": [
    {
     "data": {
      "text/html": [
       "<div>\n",
       "<style scoped>\n",
       "    .dataframe tbody tr th:only-of-type {\n",
       "        vertical-align: middle;\n",
       "    }\n",
       "\n",
       "    .dataframe tbody tr th {\n",
       "        vertical-align: top;\n",
       "    }\n",
       "\n",
       "    .dataframe thead th {\n",
       "        text-align: right;\n",
       "    }\n",
       "</style>\n",
       "<table border=\"1\" class=\"dataframe\">\n",
       "  <thead>\n",
       "    <tr style=\"text-align: right;\">\n",
       "      <th></th>\n",
       "      <th>Date</th>\n",
       "      <th>Open</th>\n",
       "      <th>High</th>\n",
       "      <th>Low</th>\n",
       "      <th>Close</th>\n",
       "      <th>Adj Close</th>\n",
       "      <th>Volume</th>\n",
       "    </tr>\n",
       "  </thead>\n",
       "  <tbody>\n",
       "    <tr>\n",
       "      <th>0</th>\n",
       "      <td>6/29/2010</td>\n",
       "      <td>19.000000</td>\n",
       "      <td>25.00</td>\n",
       "      <td>17.540001</td>\n",
       "      <td>23.889999</td>\n",
       "      <td>23.889999</td>\n",
       "      <td>18766300</td>\n",
       "    </tr>\n",
       "    <tr>\n",
       "      <th>1</th>\n",
       "      <td>6/30/2010</td>\n",
       "      <td>25.790001</td>\n",
       "      <td>30.42</td>\n",
       "      <td>23.299999</td>\n",
       "      <td>23.830000</td>\n",
       "      <td>23.830000</td>\n",
       "      <td>17187100</td>\n",
       "    </tr>\n",
       "    <tr>\n",
       "      <th>2</th>\n",
       "      <td>7/1/2010</td>\n",
       "      <td>25.000000</td>\n",
       "      <td>25.92</td>\n",
       "      <td>20.270000</td>\n",
       "      <td>21.959999</td>\n",
       "      <td>21.959999</td>\n",
       "      <td>8218800</td>\n",
       "    </tr>\n",
       "    <tr>\n",
       "      <th>3</th>\n",
       "      <td>7/2/2010</td>\n",
       "      <td>23.000000</td>\n",
       "      <td>23.10</td>\n",
       "      <td>18.709999</td>\n",
       "      <td>19.200001</td>\n",
       "      <td>19.200001</td>\n",
       "      <td>5139800</td>\n",
       "    </tr>\n",
       "    <tr>\n",
       "      <th>4</th>\n",
       "      <td>7/6/2010</td>\n",
       "      <td>20.000000</td>\n",
       "      <td>20.00</td>\n",
       "      <td>15.830000</td>\n",
       "      <td>16.110001</td>\n",
       "      <td>16.110001</td>\n",
       "      <td>6866900</td>\n",
       "    </tr>\n",
       "  </tbody>\n",
       "</table>\n",
       "</div>"
      ],
      "text/plain": [
       "        Date       Open   High        Low      Close  Adj Close    Volume\n",
       "0  6/29/2010  19.000000  25.00  17.540001  23.889999  23.889999  18766300\n",
       "1  6/30/2010  25.790001  30.42  23.299999  23.830000  23.830000  17187100\n",
       "2   7/1/2010  25.000000  25.92  20.270000  21.959999  21.959999   8218800\n",
       "3   7/2/2010  23.000000  23.10  18.709999  19.200001  19.200001   5139800\n",
       "4   7/6/2010  20.000000  20.00  15.830000  16.110001  16.110001   6866900"
      ]
     },
     "execution_count": 29,
     "metadata": {},
     "output_type": "execute_result"
    }
   ],
   "source": [
    "import pandas as pd \n",
    "df=pd.read_csv(\"TSLA.csv\")\n",
    "df.head()"
   ]
  },
  {
   "cell_type": "code",
   "execution_count": 30,
   "metadata": {},
   "outputs": [
    {
     "data": {
      "text/plain": [
       "0        23.889999\n",
       "1        23.830000\n",
       "2        21.959999\n",
       "3        19.200001\n",
       "4        16.110001\n",
       "           ...    \n",
       "2411    566.900024\n",
       "2412    580.989990\n",
       "2413    640.809998\n",
       "2414    650.570007\n",
       "2415    780.000000\n",
       "Name: Close, Length: 2416, dtype: float64"
      ]
     },
     "execution_count": 30,
     "metadata": {},
     "output_type": "execute_result"
    }
   ],
   "source": [
    "df.Close"
   ]
  },
  {
   "cell_type": "code",
   "execution_count": 31,
   "metadata": {},
   "outputs": [],
   "source": [
    "x=df.drop([\"Close\",\"Date\",\"Adj Close\"],axis=\"columns\")\n",
    "y=df[\"Close\"]"
   ]
  },
  {
   "cell_type": "code",
   "execution_count": 32,
   "metadata": {},
   "outputs": [],
   "source": [
    "x_train,x_test,y_train,y_test=train_test_split(x,y,test_size=0.2,random_state=0)"
   ]
  },
  {
   "cell_type": "code",
   "execution_count": 33,
   "metadata": {},
   "outputs": [
    {
     "data": {
      "text/plain": [
       "array([-6.33406470e-01,  9.09822286e-01,  7.22221223e-01, -2.55626653e-08])"
      ]
     },
     "execution_count": 33,
     "metadata": {},
     "output_type": "execute_result"
    }
   ],
   "source": [
    "reg=LinearRegression()\n",
    "reg.fit(x_train,y_train)\n",
    "reg.coef_"
   ]
  },
  {
   "cell_type": "code",
   "execution_count": 34,
   "metadata": {},
   "outputs": [
    {
     "data": {
      "text/plain": [
       "-0.03570889152700829"
      ]
     },
     "execution_count": 34,
     "metadata": {},
     "output_type": "execute_result"
    }
   ],
   "source": [
    "reg.intercept_"
   ]
  },
  {
   "cell_type": "code",
   "execution_count": 35,
   "metadata": {},
   "outputs": [
    {
     "data": {
      "text/plain": [
       "966     207.729996\n",
       "557      28.280001\n",
       "148      24.010000\n",
       "1917    315.230011\n",
       "1585    200.240005\n",
       "           ...    \n",
       "1599    188.020004\n",
       "1797    351.920013\n",
       "386      27.250000\n",
       "1622    185.850006\n",
       "459      31.820000\n",
       "Name: Close, Length: 484, dtype: float64"
      ]
     },
     "execution_count": 35,
     "metadata": {},
     "output_type": "execute_result"
    }
   ],
   "source": [
    "y_test"
   ]
  },
  {
   "cell_type": "code",
   "execution_count": 36,
   "metadata": {},
   "outputs": [
    {
     "data": {
      "text/plain": [
       "array([211.93327382,  28.34344645,  23.96747049, 326.63889044,\n",
       "       197.99951124, 209.84143145,  26.57054023,  24.1159654 ,\n",
       "       218.55046473, 350.59944847, 216.7099975 , 280.40049957,\n",
       "        31.69697966, 102.55542126,  20.40022644, 349.79891149,\n",
       "       103.437858  , 258.02993844,  27.72811815, 223.91076239,\n",
       "       363.87876094, 325.90560672, 221.70942778, 341.85450842,\n",
       "       306.21971732, 180.68302959, 336.4653148 , 271.66139389,\n",
       "       226.68781494, 244.90669049,  26.54390033,  31.41751114,\n",
       "        30.63028454, 227.98926241, 392.95272138, 222.78373695,\n",
       "       214.47184339, 137.93700922, 325.22897451, 219.93566688,\n",
       "       309.22196141,  36.64959179,  23.07174593, 214.02967116,\n",
       "        28.19760332, 231.64875996, 197.4321599 ,  34.04842541,\n",
       "       308.29253631, 272.83813857, 231.79550035, 298.31285403,\n",
       "        35.44684051, 217.34268703, 289.79617795, 232.2691816 ,\n",
       "        34.16691676, 237.48107308,  18.0454679 ,  52.30063598,\n",
       "       227.67194808,  34.09896992, 260.47309803, 323.43699347,\n",
       "        27.15820053,  28.02553518, 247.17197818, 228.41047918,\n",
       "        20.83224441,  33.0548958 ,  33.16853853, 170.80777717,\n",
       "       323.4398143 ,  23.69198075,  33.1451879 , 299.21821631,\n",
       "       307.03620648,  18.55794036,  21.41674952, 250.00096416,\n",
       "       328.58384753, 217.11349428,  54.84653577, 213.41224603,\n",
       "        35.96322356, 335.05748804,  35.19466245, 531.62498965,\n",
       "        22.74081753, 222.24290717,  28.3913881 , 326.89669815,\n",
       "        38.64369593, 246.49212108, 177.07166553, 233.17046024,\n",
       "       345.81570876,  30.25909936,  28.43891561,  54.09498973,\n",
       "        33.14975221, 320.35335017, 253.85898103, 350.32197216,\n",
       "       226.09983499,  29.51629791, 191.29481876, 195.40108506,\n",
       "       254.5992167 ,  25.92781489, 228.84148696, 347.72168799,\n",
       "       229.46299716, 371.50846626, 232.11182787, 159.79735083,\n",
       "       203.08500328, 255.37664439, 299.90957165,  20.6350972 ,\n",
       "       214.06703161, 278.87023348, 220.93968414,  27.03061552,\n",
       "       348.10389911, 358.22804371, 215.81392334, 341.82109758,\n",
       "       313.52733074,  20.43785196, 196.72139687, 544.38462764,\n",
       "        19.95238168, 267.69880056, 224.19325183, 341.43906336,\n",
       "       338.62069621, 244.24575218, 205.25294679, 206.79248321,\n",
       "        27.80731265, 349.67943789, 365.21997437, 196.09880513,\n",
       "        22.61398933,  26.9817845 ,  27.83491095, 198.09514811,\n",
       "       225.02810678, 124.63141959, 245.50845368,  31.16685475,\n",
       "        34.06407444,  23.86898156,  20.72283182,  28.96323131,\n",
       "        19.87475971, 193.16338542, 372.92924788,  27.33226087,\n",
       "       258.67081294,  29.38818923, 233.78824124, 218.88032009,\n",
       "        32.72659847, 222.87267249, 359.5096573 , 313.26280898,\n",
       "       294.33715112, 268.7692096 , 272.09215441, 301.06443348,\n",
       "       205.61316797, 223.66064893, 315.68921352, 353.06350077,\n",
       "       225.10685583, 373.59855705,  35.23271283, 348.93361973,\n",
       "       238.84777877,  28.44983949, 254.20486093, 143.9469219 ,\n",
       "        31.28420311, 240.35834774, 140.74525027,  19.6533059 ,\n",
       "        19.65363168, 221.97896239, 349.45100554,  29.51283148,\n",
       "       304.73744942, 282.56364672, 334.04490678, 214.22768218,\n",
       "       235.74862943,  39.34276957, 226.28159472, 334.73340117,\n",
       "        29.96539458, 265.69209126,  34.85292642, 260.22115066,\n",
       "       248.78758114, 176.64879736, 359.22575226,  24.49623626,\n",
       "       332.41023481, 303.76571264, 156.76213607,  35.42256311,\n",
       "       285.75775947, 233.2940987 , 265.44160212, 255.84762659,\n",
       "        25.25425103, 520.26307218,  28.01403647,  37.18595269,\n",
       "       201.76448439, 105.82405835, 300.42535366,  37.24410391,\n",
       "        27.86490985, 245.65503817,  33.32940376,  19.37269958,\n",
       "       194.9457625 , 238.26090414, 353.4627255 , 281.90211292,\n",
       "       252.24749804, 243.2862424 , 230.82757136, 228.16459916,\n",
       "       298.44839582,  28.44142136, 201.83621005, 337.2964924 ,\n",
       "       226.55243468,  29.19654028, 251.63077239, 276.95697129,\n",
       "       204.43118919,  18.89871353,  36.09340177,  26.04332488,\n",
       "        28.09082098, 116.1239802 , 348.56462056, 329.66208923,\n",
       "       162.26453236,  34.13621548,  26.91376719, 218.9296431 ,\n",
       "       101.46904645, 196.55524824,  29.50392892, 364.27396269,\n",
       "       358.94245286,  27.80351585, 254.21891211, 313.92138236,\n",
       "        33.42834215, 211.56031105, 190.19844163, 253.23952272,\n",
       "       270.90709562, 339.7774119 , 189.71117191, 164.6153865 ,\n",
       "        39.45325037,  33.68264472, 202.82820009, 227.92318452,\n",
       "       187.54154466, 184.77045309, 250.01734784, 246.29805938,\n",
       "       227.63186027, 255.48629847, 378.84560352,  30.70427655,\n",
       "       249.21377245,  34.80977421, 207.25438051,  34.92312669,\n",
       "       269.03223215, 259.29204638,  27.69393725, 304.86081863,\n",
       "        20.36541844, 142.81728299,  28.0012521 , 216.23875456,\n",
       "       251.19883043, 298.06692312, 302.99202693, 490.82646088,\n",
       "        30.1317005 , 150.12503627, 237.12397036, 242.47321663,\n",
       "       361.02754634, 306.82006735,  36.54724419, 166.66897675,\n",
       "       246.83006865, 184.59422669, 235.35011813, 206.53154323,\n",
       "        34.41050903, 298.9153948 , 147.17337716, 286.96269794,\n",
       "       254.48346673,  29.07296177,  31.64044857, 128.32787185,\n",
       "        28.37050648,  27.45301648, 300.5880596 ,  27.2725376 ,\n",
       "       148.08405774, 380.4322716 , 203.95465719, 249.65253728,\n",
       "       251.15899319, 252.99225747, 194.24977258, 264.15786091,\n",
       "        28.43163202,  20.81536426,  22.87507132,  27.28759042,\n",
       "       303.57910746, 228.0792129 , 118.61989758, 201.4338887 ,\n",
       "       252.28241105,  54.8481806 , 184.55666325, 229.07575487,\n",
       "        26.93250675, 229.67618464,  33.90018222,  32.61116324,\n",
       "        24.14923479,  28.11278363,  29.28681626, 248.01921947,\n",
       "       246.81141361, 219.06664409, 211.88835748, 157.54026619,\n",
       "       197.16141594, 250.26209231,  26.20129421,  37.24989611,\n",
       "       202.64461408, 240.70955243,  51.67150326,  35.17991077,\n",
       "       337.01394827, 244.75084904, 225.36567357,  26.58394783,\n",
       "       258.23777115, 353.15861374,  38.0065327 , 306.42389021,\n",
       "       213.59516685, 266.50260326, 166.51457114, 202.71439907,\n",
       "        27.22396364, 283.77550436, 177.4333099 , 198.2300481 ,\n",
       "       339.6839426 , 337.49744609,  27.6110238 , 331.10667778,\n",
       "        35.58403363, 210.5215743 , 205.90256566,  27.75508003,\n",
       "       251.91550868, 241.87167064, 244.88207482, 200.06110033,\n",
       "       244.74695358, 383.61994993, 254.95904752, 211.66152264,\n",
       "       241.22832108, 287.01063525, 233.85355608, 343.89020633,\n",
       "        25.79011361, 205.02316614, 238.95463554,  20.5219486 ,\n",
       "       250.77080995, 184.71208296, 232.88277449, 223.24176399,\n",
       "        23.72828688, 166.47536169, 311.59401368, 238.39830696,\n",
       "        23.19194698, 282.51351258, 227.4397734 , 232.75047305,\n",
       "       357.05222204, 254.962322  , 226.45268274,  20.54474737,\n",
       "        28.10016285,  25.30746124, 347.57449005, 189.67009345,\n",
       "       227.50139102, 240.55138496,  33.430466  , 201.95849669,\n",
       "       147.73339985,  21.03429216,  24.37107884, 212.33887234,\n",
       "        29.39519531,  26.59681692,  24.58561522, 228.44483918,\n",
       "       249.474224  ,  33.34188617,  21.35144543, 322.42309521,\n",
       "       178.6855494 , 225.46800838,  27.06824678, 224.14378265,\n",
       "       311.3627349 ,  24.31154826,  87.14373143, 278.92306728,\n",
       "       134.31547882, 236.65577502, 156.36215704, 188.92283136,\n",
       "        33.69361545,  45.58469361, 199.94612149,  28.66527101,\n",
       "       325.39335548,  29.08417692, 222.34733258, 230.59027553,\n",
       "       269.62434616, 231.64720864, 252.58971589,  22.89813462,\n",
       "       186.06708001, 258.36378388,  28.8429513 , 164.26291054,\n",
       "        18.17462745, 168.65487541,  78.91577597, 253.51280612,\n",
       "       355.28127603, 311.1261409 , 263.60051783, 291.50456116,\n",
       "       331.2189219 , 204.64245101,  28.89246271, 190.22311107,\n",
       "       355.50720692,  26.71482042, 184.05803386,  31.47719165])"
      ]
     },
     "execution_count": 36,
     "metadata": {},
     "output_type": "execute_result"
    }
   ],
   "source": [
    "predicted=reg.predict(x_test)\n",
    "predicted"
   ]
  },
  {
   "cell_type": "code",
   "execution_count": 37,
   "metadata": {},
   "outputs": [
    {
     "data": {
      "text/html": [
       "<div>\n",
       "<style scoped>\n",
       "    .dataframe tbody tr th:only-of-type {\n",
       "        vertical-align: middle;\n",
       "    }\n",
       "\n",
       "    .dataframe tbody tr th {\n",
       "        vertical-align: top;\n",
       "    }\n",
       "\n",
       "    .dataframe thead th {\n",
       "        text-align: right;\n",
       "    }\n",
       "</style>\n",
       "<table border=\"1\" class=\"dataframe\">\n",
       "  <thead>\n",
       "    <tr style=\"text-align: right;\">\n",
       "      <th></th>\n",
       "      <th>Actual</th>\n",
       "      <th>Predicted</th>\n",
       "    </tr>\n",
       "  </thead>\n",
       "  <tbody>\n",
       "    <tr>\n",
       "      <th>0</th>\n",
       "      <td>207.729996</td>\n",
       "      <td>211.933274</td>\n",
       "    </tr>\n",
       "    <tr>\n",
       "      <th>1</th>\n",
       "      <td>28.280001</td>\n",
       "      <td>28.343446</td>\n",
       "    </tr>\n",
       "    <tr>\n",
       "      <th>2</th>\n",
       "      <td>24.010000</td>\n",
       "      <td>23.967470</td>\n",
       "    </tr>\n",
       "    <tr>\n",
       "      <th>3</th>\n",
       "      <td>315.230011</td>\n",
       "      <td>326.638890</td>\n",
       "    </tr>\n",
       "    <tr>\n",
       "      <th>4</th>\n",
       "      <td>200.240005</td>\n",
       "      <td>197.999511</td>\n",
       "    </tr>\n",
       "    <tr>\n",
       "      <th>5</th>\n",
       "      <td>210.240005</td>\n",
       "      <td>209.841431</td>\n",
       "    </tr>\n",
       "    <tr>\n",
       "      <th>6</th>\n",
       "      <td>26.440001</td>\n",
       "      <td>26.570540</td>\n",
       "    </tr>\n",
       "    <tr>\n",
       "      <th>7</th>\n",
       "      <td>22.790001</td>\n",
       "      <td>24.115965</td>\n",
       "    </tr>\n",
       "    <tr>\n",
       "      <th>8</th>\n",
       "      <td>224.839996</td>\n",
       "      <td>218.550465</td>\n",
       "    </tr>\n",
       "    <tr>\n",
       "      <th>9</th>\n",
       "      <td>353.179993</td>\n",
       "      <td>350.599448</td>\n",
       "    </tr>\n",
       "    <tr>\n",
       "      <th>10</th>\n",
       "      <td>219.039993</td>\n",
       "      <td>216.709997</td>\n",
       "    </tr>\n",
       "    <tr>\n",
       "      <th>11</th>\n",
       "      <td>278.480011</td>\n",
       "      <td>280.400500</td>\n",
       "    </tr>\n",
       "    <tr>\n",
       "      <th>12</th>\n",
       "      <td>31.799999</td>\n",
       "      <td>31.696980</td>\n",
       "    </tr>\n",
       "    <tr>\n",
       "      <th>13</th>\n",
       "      <td>102.199997</td>\n",
       "      <td>102.555421</td>\n",
       "    </tr>\n",
       "    <tr>\n",
       "      <th>14</th>\n",
       "      <td>20.430000</td>\n",
       "      <td>20.400226</td>\n",
       "    </tr>\n",
       "    <tr>\n",
       "      <th>15</th>\n",
       "      <td>346.049988</td>\n",
       "      <td>349.798911</td>\n",
       "    </tr>\n",
       "    <tr>\n",
       "      <th>16</th>\n",
       "      <td>104.629997</td>\n",
       "      <td>103.437858</td>\n",
       "    </tr>\n",
       "    <tr>\n",
       "      <th>17</th>\n",
       "      <td>260.170013</td>\n",
       "      <td>258.029938</td>\n",
       "    </tr>\n",
       "    <tr>\n",
       "      <th>18</th>\n",
       "      <td>28.059999</td>\n",
       "      <td>27.728118</td>\n",
       "    </tr>\n",
       "    <tr>\n",
       "      <th>19</th>\n",
       "      <td>225.000000</td>\n",
       "      <td>223.910762</td>\n",
       "    </tr>\n",
       "    <tr>\n",
       "      <th>20</th>\n",
       "      <td>359.700012</td>\n",
       "      <td>363.878761</td>\n",
       "    </tr>\n",
       "    <tr>\n",
       "      <th>21</th>\n",
       "      <td>327.779999</td>\n",
       "      <td>325.905607</td>\n",
       "    </tr>\n",
       "    <tr>\n",
       "      <th>22</th>\n",
       "      <td>220.690002</td>\n",
       "      <td>221.709428</td>\n",
       "    </tr>\n",
       "    <tr>\n",
       "      <th>23</th>\n",
       "      <td>337.950012</td>\n",
       "      <td>341.854508</td>\n",
       "    </tr>\n",
       "    <tr>\n",
       "      <th>24</th>\n",
       "      <td>308.739990</td>\n",
       "      <td>306.219717</td>\n",
       "    </tr>\n",
       "  </tbody>\n",
       "</table>\n",
       "</div>"
      ],
      "text/plain": [
       "        Actual   Predicted\n",
       "0   207.729996  211.933274\n",
       "1    28.280001   28.343446\n",
       "2    24.010000   23.967470\n",
       "3   315.230011  326.638890\n",
       "4   200.240005  197.999511\n",
       "5   210.240005  209.841431\n",
       "6    26.440001   26.570540\n",
       "7    22.790001   24.115965\n",
       "8   224.839996  218.550465\n",
       "9   353.179993  350.599448\n",
       "10  219.039993  216.709997\n",
       "11  278.480011  280.400500\n",
       "12   31.799999   31.696980\n",
       "13  102.199997  102.555421\n",
       "14   20.430000   20.400226\n",
       "15  346.049988  349.798911\n",
       "16  104.629997  103.437858\n",
       "17  260.170013  258.029938\n",
       "18   28.059999   27.728118\n",
       "19  225.000000  223.910762\n",
       "20  359.700012  363.878761\n",
       "21  327.779999  325.905607\n",
       "22  220.690002  221.709428\n",
       "23  337.950012  341.854508\n",
       "24  308.739990  306.219717"
      ]
     },
     "execution_count": 37,
     "metadata": {},
     "output_type": "execute_result"
    }
   ],
   "source": [
    "dframe=pd.DataFrame({\"Actual\":y_test.values.flatten(),\"Predicted\":predicted.flatten()})\n",
    "dframe.head(25)"
   ]
  },
  {
   "cell_type": "code",
   "execution_count": 38,
   "metadata": {},
   "outputs": [
    {
     "data": {
      "text/plain": [
       "0.9996956321110008"
      ]
     },
     "execution_count": 38,
     "metadata": {},
     "output_type": "execute_result"
    }
   ],
   "source": [
    "reg.score(x_test,y_test)"
   ]
  },
  {
   "cell_type": "code",
   "execution_count": 40,
   "metadata": {},
   "outputs": [
    {
     "name": "stdout",
     "output_type": "stream",
     "text": [
      "mean absolute error is: 1.4055113679002122\n",
      "mean squared error is: 4.2569361576814\n",
      "root mean squared error is: 2.0632343923271055\n"
     ]
    }
   ],
   "source": [
    "print(\"mean absolute error is:\",metrics.mean_absolute_error(y_test,predicted))\n",
    "print(\"mean squared error is:\",metrics.mean_squared_error(y_test,predicted))\n",
    "print(\"root mean squared error is:\",np.sqrt(metrics.mean_squared_error(y_test,predicted)))\n"
   ]
  },
  {
   "cell_type": "code",
   "execution_count": 42,
   "metadata": {},
   "outputs": [
    {
     "data": {
      "text/plain": [
       "<AxesSubplot:>"
      ]
     },
     "execution_count": 42,
     "metadata": {},
     "output_type": "execute_result"
    },
    {
     "data": {
      "image/png": "[encoded data removed]",
      "text/plain": [
       "<Figure size 432x288 with 1 Axes>"
      ]
     },
     "metadata": {
      "needs_background": "light"
     },
     "output_type": "display_data"
    }
   ],
   "source": [
    "graph=dframe.head(20)\n",
    "graph.plot(kind=\"bar\")"
   ]
  }
 ],
 "metadata": {
  "interpreter": {
   "hash": "81794d4967e6c3204c66dcd87b604927b115b27c00565d3d43f05ba2f3a2cb0d"
  },
  "kernelspec": {
   "display_name": "Python 3.9.4 64-bit",
   "language": "python",
   "name": "python3"
  },
  "language_info": {
   "codemirror_mode": {
    "name": "ipython",
    "version": 3
   },
   "file_extension": ".py",
   "mimetype": "text/x-python",
   "name": "python",
   "nbconvert_exporter": "python",
   "pygments_lexer": "ipython3",
   "version": "3.9.4"
  },
  "orig_nbformat": 4
 },
 "nbformat": 4,
 "nbformat_minor": 2
}
